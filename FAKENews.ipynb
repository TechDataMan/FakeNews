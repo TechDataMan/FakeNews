{
 "cells": [
  {
   "cell_type": "markdown",
   "metadata": {},
   "source": [
    "# CapStone Project - FAKENews Detection\n",
    "\n",
    "\n",
    "## Import libraries and load dataset\n",
    "- Import Python libraries\n",
    "- Load `WELFake_Dataset.csv` into a dataframe and inspect the first few lines."
   ]
  },
  {
   "cell_type": "code",
   "execution_count": 1,
   "metadata": {},
   "outputs": [
    {
     "name": "stdout",
     "output_type": "stream",
     "text": [
      "[nltk_data] Downloading package punkt to /root/nltk_data...\n",
      "[nltk_data]   Package punkt is already up-to-date!\n",
      "[nltk_data] Downloading package wordnet to /root/nltk_data...\n",
      "[nltk_data]   Package wordnet is already up-to-date!\n",
      "[nltk_data] Downloading package stopwords to /root/nltk_data...\n",
      "[nltk_data]   Package stopwords is already up-to-date!\n",
      "[nltk_data] Downloading package averaged_perceptron_tagger to\n",
      "[nltk_data]     /root/nltk_data...\n",
      "[nltk_data]   Package averaged_perceptron_tagger is already up-to-\n",
      "[nltk_data]       date!\n"
     ]
    }
   ],
   "source": [
    "# import libraries\n",
    "import pandas as pd\n",
    "import numpy as np\n",
    "import re\n",
    "import seaborn as sns\n",
    "import matplotlib.pyplot as plt\n",
    "import nltk\n",
    "\n",
    "nltk.download(['punkt', 'wordnet', 'stopwords', 'averaged_perceptron_tagger'])\n",
    "from nltk.tokenize import word_tokenize\n",
    "from nltk.corpus import stopwords\n",
    "from nltk.stem import WordNetLemmatizer\n",
    "\n",
    "from sklearn.metrics import confusion_matrix, classification_report\n",
    "from sklearn.model_selection import GridSearchCV, train_test_split\n",
    "from sklearn.ensemble import AdaBoostClassifier, VotingClassifier\n",
    "from sklearn.feature_extraction.text import CountVectorizer, TfidfTransformer, TfidfVectorizer\n",
    "from sklearn.preprocessing import MinMaxScaler\n",
    "from sklearn.linear_model import LogisticRegression\n",
    "from sklearn.naive_bayes import MultinomialNB\n",
    "from sklearn.svm import SVC\n",
    "from sqlalchemy import create_engine"
   ]
  },
  {
   "cell_type": "code",
   "execution_count": 2,
   "metadata": {},
   "outputs": [
    {
     "data": {
      "text/html": [
       "<div>\n",
       "<style scoped>\n",
       "    .dataframe tbody tr th:only-of-type {\n",
       "        vertical-align: middle;\n",
       "    }\n",
       "\n",
       "    .dataframe tbody tr th {\n",
       "        vertical-align: top;\n",
       "    }\n",
       "\n",
       "    .dataframe thead th {\n",
       "        text-align: right;\n",
       "    }\n",
       "</style>\n",
       "<table border=\"1\" class=\"dataframe\">\n",
       "  <thead>\n",
       "    <tr style=\"text-align: right;\">\n",
       "      <th></th>\n",
       "      <th>Unnamed: 0</th>\n",
       "      <th>title</th>\n",
       "      <th>text</th>\n",
       "      <th>label</th>\n",
       "    </tr>\n",
       "  </thead>\n",
       "  <tbody>\n",
       "    <tr>\n",
       "      <th>0</th>\n",
       "      <td>0</td>\n",
       "      <td>LAW ENFORCEMENT ON HIGH ALERT Following Threat...</td>\n",
       "      <td>No comment is expected from Barack Obama Membe...</td>\n",
       "      <td>1</td>\n",
       "    </tr>\n",
       "    <tr>\n",
       "      <th>1</th>\n",
       "      <td>1</td>\n",
       "      <td>NaN</td>\n",
       "      <td>Did they post their votes for Hillary already?</td>\n",
       "      <td>1</td>\n",
       "    </tr>\n",
       "    <tr>\n",
       "      <th>2</th>\n",
       "      <td>2</td>\n",
       "      <td>UNBELIEVABLE! OBAMA’S ATTORNEY GENERAL SAYS MO...</td>\n",
       "      <td>Now, most of the demonstrators gathered last ...</td>\n",
       "      <td>1</td>\n",
       "    </tr>\n",
       "    <tr>\n",
       "      <th>3</th>\n",
       "      <td>3</td>\n",
       "      <td>Bobby Jindal, raised Hindu, uses story of Chri...</td>\n",
       "      <td>A dozen politically active pastors came here f...</td>\n",
       "      <td>0</td>\n",
       "    </tr>\n",
       "    <tr>\n",
       "      <th>4</th>\n",
       "      <td>4</td>\n",
       "      <td>SATAN 2: Russia unvelis an image of its terrif...</td>\n",
       "      <td>The RS-28 Sarmat missile, dubbed Satan 2, will...</td>\n",
       "      <td>1</td>\n",
       "    </tr>\n",
       "  </tbody>\n",
       "</table>\n",
       "</div>"
      ],
      "text/plain": [
       "   Unnamed: 0                                              title  \\\n",
       "0           0  LAW ENFORCEMENT ON HIGH ALERT Following Threat...   \n",
       "1           1                                                NaN   \n",
       "2           2  UNBELIEVABLE! OBAMA’S ATTORNEY GENERAL SAYS MO...   \n",
       "3           3  Bobby Jindal, raised Hindu, uses story of Chri...   \n",
       "4           4  SATAN 2: Russia unvelis an image of its terrif...   \n",
       "\n",
       "                                                text  label  \n",
       "0  No comment is expected from Barack Obama Membe...      1  \n",
       "1     Did they post their votes for Hillary already?      1  \n",
       "2   Now, most of the demonstrators gathered last ...      1  \n",
       "3  A dozen politically active pastors came here f...      0  \n",
       "4  The RS-28 Sarmat missile, dubbed Satan 2, will...      1  "
      ]
     },
     "execution_count": 2,
     "metadata": {},
     "output_type": "execute_result"
    }
   ],
   "source": [
    "# load messages dataset and look at the first rows\n",
    "messages =  pd.read_csv('WELFake_Dataset.csv')\n",
    "messages.head()"
   ]
  },
  {
   "cell_type": "markdown",
   "metadata": {},
   "source": [
    "## Inspect and clean the data set"
   ]
  },
  {
   "cell_type": "code",
   "execution_count": 3,
   "metadata": {},
   "outputs": [
    {
     "data": {
      "text/html": [
       "<div>\n",
       "<style scoped>\n",
       "    .dataframe tbody tr th:only-of-type {\n",
       "        vertical-align: middle;\n",
       "    }\n",
       "\n",
       "    .dataframe tbody tr th {\n",
       "        vertical-align: top;\n",
       "    }\n",
       "\n",
       "    .dataframe thead th {\n",
       "        text-align: right;\n",
       "    }\n",
       "</style>\n",
       "<table border=\"1\" class=\"dataframe\">\n",
       "  <thead>\n",
       "    <tr style=\"text-align: right;\">\n",
       "      <th></th>\n",
       "      <th>Unnamed: 0</th>\n",
       "      <th>label</th>\n",
       "    </tr>\n",
       "  </thead>\n",
       "  <tbody>\n",
       "    <tr>\n",
       "      <th>count</th>\n",
       "      <td>72134.000000</td>\n",
       "      <td>72134.000000</td>\n",
       "    </tr>\n",
       "    <tr>\n",
       "      <th>mean</th>\n",
       "      <td>36066.500000</td>\n",
       "      <td>0.514404</td>\n",
       "    </tr>\n",
       "    <tr>\n",
       "      <th>std</th>\n",
       "      <td>20823.436496</td>\n",
       "      <td>0.499796</td>\n",
       "    </tr>\n",
       "    <tr>\n",
       "      <th>min</th>\n",
       "      <td>0.000000</td>\n",
       "      <td>0.000000</td>\n",
       "    </tr>\n",
       "    <tr>\n",
       "      <th>25%</th>\n",
       "      <td>18033.250000</td>\n",
       "      <td>0.000000</td>\n",
       "    </tr>\n",
       "    <tr>\n",
       "      <th>50%</th>\n",
       "      <td>36066.500000</td>\n",
       "      <td>1.000000</td>\n",
       "    </tr>\n",
       "    <tr>\n",
       "      <th>75%</th>\n",
       "      <td>54099.750000</td>\n",
       "      <td>1.000000</td>\n",
       "    </tr>\n",
       "    <tr>\n",
       "      <th>max</th>\n",
       "      <td>72133.000000</td>\n",
       "      <td>1.000000</td>\n",
       "    </tr>\n",
       "  </tbody>\n",
       "</table>\n",
       "</div>"
      ],
      "text/plain": [
       "         Unnamed: 0         label\n",
       "count  72134.000000  72134.000000\n",
       "mean   36066.500000      0.514404\n",
       "std    20823.436496      0.499796\n",
       "min        0.000000      0.000000\n",
       "25%    18033.250000      0.000000\n",
       "50%    36066.500000      1.000000\n",
       "75%    54099.750000      1.000000\n",
       "max    72133.000000      1.000000"
      ]
     },
     "execution_count": 3,
     "metadata": {},
     "output_type": "execute_result"
    }
   ],
   "source": [
    "# inspect the data set\n",
    "messages.describe()"
   ]
  },
  {
   "cell_type": "code",
   "execution_count": 4,
   "metadata": {},
   "outputs": [
    {
     "data": {
      "text/html": [
       "<div>\n",
       "<style scoped>\n",
       "    .dataframe tbody tr th:only-of-type {\n",
       "        vertical-align: middle;\n",
       "    }\n",
       "\n",
       "    .dataframe tbody tr th {\n",
       "        vertical-align: top;\n",
       "    }\n",
       "\n",
       "    .dataframe thead th {\n",
       "        text-align: right;\n",
       "    }\n",
       "</style>\n",
       "<table border=\"1\" class=\"dataframe\">\n",
       "  <thead>\n",
       "    <tr style=\"text-align: right;\">\n",
       "      <th></th>\n",
       "      <th>title</th>\n",
       "      <th>text</th>\n",
       "      <th>label</th>\n",
       "    </tr>\n",
       "  </thead>\n",
       "  <tbody>\n",
       "    <tr>\n",
       "      <th>0</th>\n",
       "      <td>LAW ENFORCEMENT ON HIGH ALERT Following Threat...</td>\n",
       "      <td>No comment is expected from Barack Obama Membe...</td>\n",
       "      <td>1</td>\n",
       "    </tr>\n",
       "    <tr>\n",
       "      <th>1</th>\n",
       "      <td>NaN</td>\n",
       "      <td>Did they post their votes for Hillary already?</td>\n",
       "      <td>1</td>\n",
       "    </tr>\n",
       "    <tr>\n",
       "      <th>2</th>\n",
       "      <td>UNBELIEVABLE! OBAMA’S ATTORNEY GENERAL SAYS MO...</td>\n",
       "      <td>Now, most of the demonstrators gathered last ...</td>\n",
       "      <td>1</td>\n",
       "    </tr>\n",
       "    <tr>\n",
       "      <th>3</th>\n",
       "      <td>Bobby Jindal, raised Hindu, uses story of Chri...</td>\n",
       "      <td>A dozen politically active pastors came here f...</td>\n",
       "      <td>0</td>\n",
       "    </tr>\n",
       "    <tr>\n",
       "      <th>4</th>\n",
       "      <td>SATAN 2: Russia unvelis an image of its terrif...</td>\n",
       "      <td>The RS-28 Sarmat missile, dubbed Satan 2, will...</td>\n",
       "      <td>1</td>\n",
       "    </tr>\n",
       "  </tbody>\n",
       "</table>\n",
       "</div>"
      ],
      "text/plain": [
       "                                               title  \\\n",
       "0  LAW ENFORCEMENT ON HIGH ALERT Following Threat...   \n",
       "1                                                NaN   \n",
       "2  UNBELIEVABLE! OBAMA’S ATTORNEY GENERAL SAYS MO...   \n",
       "3  Bobby Jindal, raised Hindu, uses story of Chri...   \n",
       "4  SATAN 2: Russia unvelis an image of its terrif...   \n",
       "\n",
       "                                                text  label  \n",
       "0  No comment is expected from Barack Obama Membe...      1  \n",
       "1     Did they post their votes for Hillary already?      1  \n",
       "2   Now, most of the demonstrators gathered last ...      1  \n",
       "3  A dozen politically active pastors came here f...      0  \n",
       "4  The RS-28 Sarmat missile, dubbed Satan 2, will...      1  "
      ]
     },
     "execution_count": 4,
     "metadata": {},
     "output_type": "execute_result"
    }
   ],
   "source": [
    "# drop the Unnamed column from dataframe\n",
    "messages.drop(['Unnamed: 0'], axis=1, inplace=True)\n",
    "messages.head()"
   ]
  },
  {
   "cell_type": "code",
   "execution_count": 5,
   "metadata": {},
   "outputs": [
    {
     "name": "stdout",
     "output_type": "stream",
     "text": [
      "real: 35028\n",
      "fake: 37106\n"
     ]
    }
   ],
   "source": [
    "# Calculate the number of fake/real-articles\n",
    "real = messages[messages['label']==0].shape[0]\n",
    "fake = messages[messages['label']==1].shape[0]\n",
    "print('real:', real)\n",
    "print('fake:', fake)"
   ]
  },
  {
   "cell_type": "code",
   "execution_count": 6,
   "metadata": {},
   "outputs": [
    {
     "data": {
      "text/plain": [
       "<matplotlib.axes._subplots.AxesSubplot at 0x793f61414080>"
      ]
     },
     "execution_count": 6,
     "metadata": {},
     "output_type": "execute_result"
    },
    {
     "data": {
      "image/png": "[encoded data removed]",
      "text/plain": [
       "<matplotlib.figure.Figure at 0x793f08de6588>"
      ]
     },
     "metadata": {
      "needs_background": "light"
     },
     "output_type": "display_data"
    }
   ],
   "source": [
    "# Show the number/distribution of data\n",
    "plt.figure(figsize=(12,5))\n",
    "sns.countplot(x='label', data=messages)"
   ]
  },
  {
   "cell_type": "markdown",
   "metadata": {},
   "source": [
    "Find out what the 1 stands for and what the 0 stands for. The description of the data on the homepage says: “The data set contains four columns: Serial Number (starting at 0); Title (message heading); Text (message content); and Designation (0 = fake and 1 = real).”\n",
    "\n",
    "When reading an article, one comes to the conclusion that the labels must be reversed (0 = real and 1 = fake). This is confirmed when reading the publication [WELFake: Word Embedding Over LinguisticFeatures for Fake News Detection](https://www.researchgate.net/publication/350665094_WELFake_Word_Embedding_over_Linguistic_Features_for_Fake_News_Detection). The number of fake news items in this data set is higher than the number of real news items.\n",
    "\n",
    "Summary: 0 = REAL and 1 = FAKE"
   ]
  },
  {
   "cell_type": "code",
   "execution_count": 7,
   "metadata": {},
   "outputs": [
    {
     "data": {
      "text/plain": [
       "title    0.773560\n",
       "text     0.054066\n",
       "label    0.000000\n",
       "dtype: float64"
      ]
     },
     "execution_count": 7,
     "metadata": {},
     "output_type": "execute_result"
    }
   ],
   "source": [
    "# Calculate the percentage of missing data\n",
    "messages.isna().sum() / (messages.shape[0]) * 100"
   ]
  },
  {
   "cell_type": "code",
   "execution_count": 8,
   "metadata": {},
   "outputs": [
    {
     "name": "stdout",
     "output_type": "stream",
     "text": [
      "597\n"
     ]
    }
   ],
   "source": [
    "# Find all rows with NaN's - save for further action\n",
    "rows_to_delete = messages[messages.isna().any(axis=1)].index.tolist()\n",
    "print(len(rows_to_delete))\n",
    "\n",
    "# Delete the lines with the previously defined NaNs (rows_to_delete)\n",
    "messages = messages.drop(rows_to_delete)"
   ]
  },
  {
   "cell_type": "code",
   "execution_count": 9,
   "metadata": {},
   "outputs": [
    {
     "data": {
      "text/plain": [
       "title    0\n",
       "text     0\n",
       "label    0\n",
       "dtype: int64"
      ]
     },
     "execution_count": 9,
     "metadata": {},
     "output_type": "execute_result"
    }
   ],
   "source": [
    "# Check if sucsessful\n",
    "messages.isna().sum()"
   ]
  },
  {
   "cell_type": "markdown",
   "metadata": {},
   "source": [
    "## Remove duplicates.\n",
    "- Check how many duplicates are in this dataset.\n",
    "- Drop the duplicates.\n",
    "- Confirm duplicates were removed.\n",
    "\n",
    "Duplicate data or deduplication removes redundancy that can lead to biased results."
   ]
  },
  {
   "cell_type": "code",
   "execution_count": 10,
   "metadata": {},
   "outputs": [
    {
     "data": {
      "text/plain": [
       "8416"
      ]
     },
     "execution_count": 10,
     "metadata": {},
     "output_type": "execute_result"
    }
   ],
   "source": [
    "# How many duplicates are in this dataset?\n",
    "messages.duplicated().sum()"
   ]
  },
  {
   "cell_type": "code",
   "execution_count": 11,
   "metadata": {},
   "outputs": [],
   "source": [
    "# Drop the duplicates.\n",
    "messages.drop_duplicates(inplace=True)"
   ]
  },
  {
   "cell_type": "code",
   "execution_count": 12,
   "metadata": {},
   "outputs": [
    {
     "data": {
      "text/plain": [
       "0"
      ]
     },
     "execution_count": 12,
     "metadata": {},
     "output_type": "execute_result"
    }
   ],
   "source": [
    "# Check if sucsessful\n",
    "messages.duplicated().sum()"
   ]
  },
  {
   "cell_type": "code",
   "execution_count": 13,
   "metadata": {},
   "outputs": [
    {
     "name": "stdout",
     "output_type": "stream",
     "text": [
      "<class 'pandas.core.frame.DataFrame'>\n",
      "Int64Index: 63121 entries, 0 to 72132\n",
      "Data columns (total 3 columns):\n",
      "title    63121 non-null object\n",
      "text     63121 non-null object\n",
      "label    63121 non-null int64\n",
      "dtypes: int64(1), object(2)\n",
      "memory usage: 1.9+ MB\n"
     ]
    }
   ],
   "source": [
    "messages.info()"
   ]
  },
  {
   "cell_type": "code",
   "execution_count": 14,
   "metadata": {},
   "outputs": [
    {
     "name": "stdout",
     "output_type": "stream",
     "text": [
      "real: 34791\n",
      "fake: 28330\n"
     ]
    }
   ],
   "source": [
    "# Calculate the number of fake/real-articles after cleaning\n",
    "real_cleaned = messages[messages['label']==0].shape[0]\n",
    "fake_cleaned = messages[messages['label']==1].shape[0]\n",
    "print('real:', real_cleaned)\n",
    "print('fake:', fake_cleaned)"
   ]
  },
  {
   "cell_type": "code",
   "execution_count": 15,
   "metadata": {},
   "outputs": [
    {
     "name": "stdout",
     "output_type": "stream",
     "text": [
      "Diff Real: 237\n",
      "Diff Fake: 8776\n"
     ]
    }
   ],
   "source": [
    "# Calculate the differences before and after cleaning\n",
    "print('Diff Real:', real - real_cleaned)\n",
    "print('Diff Fake:', fake - fake_cleaned)"
   ]
  },
  {
   "cell_type": "code",
   "execution_count": 16,
   "metadata": {},
   "outputs": [
    {
     "data": {
      "text/plain": [
       "<matplotlib.axes._subplots.AxesSubplot at 0x793f5427be10>"
      ]
     },
     "execution_count": 16,
     "metadata": {},
     "output_type": "execute_result"
    },
    {
     "data": {
      "image/png": "[encoded data removed]",
      "text/plain": [
       "<matplotlib.figure.Figure at 0x793f5427bf60>"
      ]
     },
     "metadata": {
      "needs_background": "light"
     },
     "output_type": "display_data"
    }
   ],
   "source": [
    "plt.figure(figsize=(12,5))\n",
    "sns.countplot(x='label', data=messages)"
   ]
  },
  {
   "cell_type": "markdown",
   "metadata": {},
   "source": [
    "## Feature Engineering\n",
    "\n",
    "Feature engineering is a crucial step in the machine learning process. It refers to the process of converting raw data into suitable input variables (features) to improve the performance of a model. "
   ]
  },
  {
   "cell_type": "code",
   "execution_count": 17,
   "metadata": {},
   "outputs": [],
   "source": [
    "# Function for feature engineering - !!!Attention due to the size of the data set very time-consuming!!!\n",
    "def count_pos(text):\n",
    "    \n",
    "    # Count sentences\n",
    "    sentence_count = len(nltk.sent_tokenize(text))   \n",
    "    \n",
    "    # Count words\n",
    "    word_count = len(nltk.word_tokenize(text))\n",
    "    \n",
    "    tokens = nltk.word_tokenize(text)\n",
    "    tagged = nltk.pos_tag(tokens)\n",
    "    \n",
    "    # Count verbs\n",
    "    verb_count = sum(1 for _, pos in tagged if pos.startswith('VB'))\n",
    "    \n",
    "    # Count nouns\n",
    "    noun_count = sum(1 for _, pos in tagged if pos.startswith('NN'))\n",
    "    \n",
    "    # Count adjectives\n",
    "    adjective_count = sum(1 for _, pos in tagged if pos.startswith('JJ'))\n",
    "    \n",
    "    # Count selected special characters\n",
    "    special_characters = r\"[#*@!?<>]\"\n",
    "    special_count = len(re.findall(special_characters, text))\n",
    "    \n",
    "    return sentence_count, word_count, verb_count, noun_count, adjective_count, special_count"
   ]
  },
  {
   "cell_type": "code",
   "execution_count": 15,
   "metadata": {},
   "outputs": [],
   "source": [
    "# Adding the engineered feature to the data set\n",
    "messages[['Count_Sent', 'Count_Word', 'Count_Verb', 'Count_Noun', 'Count_Adj', 'Count_SPEZ']] = messages['text'].apply(lambda x: pd.Series(count_pos(x)))"
   ]
  },
  {
   "cell_type": "code",
   "execution_count": 16,
   "metadata": {},
   "outputs": [
    {
     "data": {
      "text/html": [
       "<div>\n",
       "<style scoped>\n",
       "    .dataframe tbody tr th:only-of-type {\n",
       "        vertical-align: middle;\n",
       "    }\n",
       "\n",
       "    .dataframe tbody tr th {\n",
       "        vertical-align: top;\n",
       "    }\n",
       "\n",
       "    .dataframe thead th {\n",
       "        text-align: right;\n",
       "    }\n",
       "</style>\n",
       "<table border=\"1\" class=\"dataframe\">\n",
       "  <thead>\n",
       "    <tr style=\"text-align: right;\">\n",
       "      <th></th>\n",
       "      <th>title</th>\n",
       "      <th>text</th>\n",
       "      <th>label</th>\n",
       "      <th>Count_Sent</th>\n",
       "      <th>Count_Word</th>\n",
       "      <th>Count_Verb</th>\n",
       "      <th>Count_Noun</th>\n",
       "      <th>Count_Adj</th>\n",
       "      <th>Count_SPEZ</th>\n",
       "    </tr>\n",
       "  </thead>\n",
       "  <tbody>\n",
       "    <tr>\n",
       "      <th>0</th>\n",
       "      <td>LAW ENFORCEMENT ON HIGH ALERT Following Threat...</td>\n",
       "      <td>No comment is expected from Barack Obama Membe...</td>\n",
       "      <td>1</td>\n",
       "      <td>47</td>\n",
       "      <td>979</td>\n",
       "      <td>173</td>\n",
       "      <td>243</td>\n",
       "      <td>61</td>\n",
       "      <td>70</td>\n",
       "    </tr>\n",
       "    <tr>\n",
       "      <th>2</th>\n",
       "      <td>UNBELIEVABLE! OBAMA’S ATTORNEY GENERAL SAYS MO...</td>\n",
       "      <td>Now, most of the demonstrators gathered last ...</td>\n",
       "      <td>1</td>\n",
       "      <td>2</td>\n",
       "      <td>36</td>\n",
       "      <td>8</td>\n",
       "      <td>12</td>\n",
       "      <td>3</td>\n",
       "      <td>0</td>\n",
       "    </tr>\n",
       "    <tr>\n",
       "      <th>3</th>\n",
       "      <td>Bobby Jindal, raised Hindu, uses story of Chri...</td>\n",
       "      <td>A dozen politically active pastors came here f...</td>\n",
       "      <td>0</td>\n",
       "      <td>48</td>\n",
       "      <td>1514</td>\n",
       "      <td>228</td>\n",
       "      <td>484</td>\n",
       "      <td>96</td>\n",
       "      <td>1</td>\n",
       "    </tr>\n",
       "    <tr>\n",
       "      <th>4</th>\n",
       "      <td>SATAN 2: Russia unvelis an image of its terrif...</td>\n",
       "      <td>The RS-28 Sarmat missile, dubbed Satan 2, will...</td>\n",
       "      <td>1</td>\n",
       "      <td>10</td>\n",
       "      <td>363</td>\n",
       "      <td>53</td>\n",
       "      <td>127</td>\n",
       "      <td>20</td>\n",
       "      <td>0</td>\n",
       "    </tr>\n",
       "    <tr>\n",
       "      <th>5</th>\n",
       "      <td>About Time! Christian Group Sues Amazon and SP...</td>\n",
       "      <td>All we can say on this one is it s about time ...</td>\n",
       "      <td>1</td>\n",
       "      <td>8</td>\n",
       "      <td>280</td>\n",
       "      <td>30</td>\n",
       "      <td>97</td>\n",
       "      <td>18</td>\n",
       "      <td>1</td>\n",
       "    </tr>\n",
       "  </tbody>\n",
       "</table>\n",
       "</div>"
      ],
      "text/plain": [
       "                                               title  \\\n",
       "0  LAW ENFORCEMENT ON HIGH ALERT Following Threat...   \n",
       "2  UNBELIEVABLE! OBAMA’S ATTORNEY GENERAL SAYS MO...   \n",
       "3  Bobby Jindal, raised Hindu, uses story of Chri...   \n",
       "4  SATAN 2: Russia unvelis an image of its terrif...   \n",
       "5  About Time! Christian Group Sues Amazon and SP...   \n",
       "\n",
       "                                                text  label  Count_Sent  \\\n",
       "0  No comment is expected from Barack Obama Membe...      1          47   \n",
       "2   Now, most of the demonstrators gathered last ...      1           2   \n",
       "3  A dozen politically active pastors came here f...      0          48   \n",
       "4  The RS-28 Sarmat missile, dubbed Satan 2, will...      1          10   \n",
       "5  All we can say on this one is it s about time ...      1           8   \n",
       "\n",
       "   Count_Word  Count_Verb  Count_Noun  Count_Adj  Count_SPEZ  \n",
       "0         979         173         243         61          70  \n",
       "2          36           8          12          3           0  \n",
       "3        1514         228         484         96           1  \n",
       "4         363          53         127         20           0  \n",
       "5         280          30          97         18           1  "
      ]
     },
     "execution_count": 16,
     "metadata": {},
     "output_type": "execute_result"
    }
   ],
   "source": [
    "messages.head()"
   ]
  },
  {
   "cell_type": "markdown",
   "metadata": {},
   "source": [
    "### Graphical representation\n",
    "\n",
    "Display of the enginered feature to graphically determine whether a distinction seems possible"
   ]
  },
  {
   "cell_type": "code",
   "execution_count": 19,
   "metadata": {},
   "outputs": [
    {
     "data": {
      "image/png": "[encoded data removed]",
      "text/plain": [
       "<matplotlib.figure.Figure at 0x793f09001390>"
      ]
     },
     "metadata": {
      "needs_background": "light"
     },
     "output_type": "display_data"
    }
   ],
   "source": [
    "# Representation of the counted sentences\n",
    "bins = np.linspace(1, 100, 100)\n",
    "plt.hist(messages[messages['label']== 0]['Count_Sent'], bins, alpha=0.4, label=\"Real\")\n",
    "plt.hist(messages[messages['label']== 1]['Count_Sent'], bins, alpha=0.5, label=\"Fake\")\n",
    "plt.xlabel('counted sentences')\n",
    "plt.ylabel('counts')\n",
    "plt.legend(loc='upper right')\n",
    "plt.show()"
   ]
  },
  {
   "cell_type": "code",
   "execution_count": 20,
   "metadata": {},
   "outputs": [
    {
     "data": {
      "image/png": "[encoded data removed]",
      "text/plain": [
       "<matplotlib.figure.Figure at 0x793f08d294a8>"
      ]
     },
     "metadata": {
      "needs_background": "light"
     },
     "output_type": "display_data"
    }
   ],
   "source": [
    "# Representation of the counted words\n",
    "bins = np.linspace(1, 1500, 100)\n",
    "plt.hist(messages[messages['label']== 0]['Count_Word'], bins, alpha=0.4, label=\"Real\")\n",
    "plt.hist(messages[messages['label']== 1]['Count_Word'], bins, alpha=0.5, label=\"Fake\")\n",
    "plt.xlabel('counted words')\n",
    "plt.ylabel('counts')\n",
    "plt.legend(loc='upper right')\n",
    "plt.show()"
   ]
  },
  {
   "cell_type": "code",
   "execution_count": 21,
   "metadata": {},
   "outputs": [
    {
     "data": {
      "image/png": "[encoded data removed]",
      "text/plain": [
       "<matplotlib.figure.Figure at 0x793f5427bac8>"
      ]
     },
     "metadata": {
      "needs_background": "light"
     },
     "output_type": "display_data"
    }
   ],
   "source": [
    "# Representation of the counted verbs\n",
    "bins = np.linspace(1, 250, 80)\n",
    "plt.hist(messages[messages['label']== 0]['Count_Verb'], bins, alpha=0.4, label=\"Real\")\n",
    "plt.hist(messages[messages['label']== 1]['Count_Verb'], bins, alpha=0.5, label=\"Fake\")\n",
    "plt.xlabel('counted verbs')\n",
    "plt.ylabel('counts')\n",
    "plt.legend(loc='upper right')\n",
    "plt.show()"
   ]
  },
  {
   "cell_type": "code",
   "execution_count": 22,
   "metadata": {},
   "outputs": [
    {
     "data": {
      "image/png": "[encoded data removed]",
      "text/plain": [
       "<matplotlib.figure.Figure at 0x793effbbe7b8>"
      ]
     },
     "metadata": {
      "needs_background": "light"
     },
     "output_type": "display_data"
    }
   ],
   "source": [
    "# Representation of the counted nouns\n",
    "bins = np.linspace(1, 350, 90)\n",
    "plt.hist(messages[messages['label']== 0]['Count_Noun'], bins, alpha=0.4, label=\"Real\")\n",
    "plt.hist(messages[messages['label']== 1]['Count_Noun'], bins, alpha=0.5, label=\"Fake\")\n",
    "plt.xlabel('counted nouns')\n",
    "plt.ylabel('counts')\n",
    "plt.legend(loc='upper right')\n",
    "plt.show()"
   ]
  },
  {
   "cell_type": "code",
   "execution_count": 23,
   "metadata": {},
   "outputs": [
    {
     "data": {
      "image/png": "[encoded data removed]",
      "text/plain": [
       "<matplotlib.figure.Figure at 0x793f5569f630>"
      ]
     },
     "metadata": {
      "needs_background": "light"
     },
     "output_type": "display_data"
    }
   ],
   "source": [
    "# Representation of the counted adjecives\n",
    "bins = np.linspace(1, 150, 70)\n",
    "plt.hist(messages[messages['label']== 0]['Count_Adj'], bins, alpha=0.4, label=\"Real\")\n",
    "plt.hist(messages[messages['label']== 1]['Count_Adj'], bins, alpha=0.5, label=\"Fake\")\n",
    "plt.xlabel('counted adjectives')\n",
    "plt.ylabel('counts')\n",
    "plt.legend(loc='upper right')\n",
    "plt.show()"
   ]
  },
  {
   "cell_type": "code",
   "execution_count": 24,
   "metadata": {},
   "outputs": [
    {
     "data": {
      "image/png": "[encoded data removed]",
      "text/plain": [
       "<matplotlib.figure.Figure at 0x793f0afce4a8>"
      ]
     },
     "metadata": {
      "needs_background": "light"
     },
     "output_type": "display_data"
    }
   ],
   "source": [
    "# Representation of the counted punctuation marks\n",
    "bins = np.linspace(1, 25, 15)\n",
    "plt.hist(messages[messages['label']== 0]['Count_SPEZ'], bins, alpha=0.4, label=\"Real\")\n",
    "plt.hist(messages[messages['label']== 1]['Count_SPEZ'], bins, alpha=0.5, label=\"Fake\")\n",
    "plt.xlabel('counted punctuation marks')\n",
    "plt.ylabel('counts')\n",
    "plt.legend(loc='upper right')\n",
    "plt.show()"
   ]
  },
  {
   "cell_type": "markdown",
   "metadata": {},
   "source": [
    "The distributions show differences between real and fake items. It is therefore perfectly plausible to add these features to the data set."
   ]
  },
  {
   "cell_type": "code",
   "execution_count": 25,
   "metadata": {},
   "outputs": [
    {
     "data": {
      "image/png": "[encoded data removed]",
      "text/plain": [
       "<matplotlib.figure.Figure at 0x793f07ca9b00>"
      ]
     },
     "metadata": {
      "needs_background": "light"
     },
     "output_type": "display_data"
    }
   ],
   "source": [
    "# Calculate Correlationsmatrix\n",
    "corr = messages[['Count_Sent', 'Count_Word', 'Count_Verb', 'Count_Noun', 'Count_Adj', 'Count_SPEZ']].corr()\n",
    "\n",
    "# Plot Heatmap\n",
    "plt.figure(figsize=(8, 6))\n",
    "sns.heatmap(corr, annot=True, cmap='coolwarm', fmt=\".2f\", square=True)\n",
    "plt.title('Correlations between the engineered features')\n",
    "plt.show()"
   ]
  },
  {
   "cell_type": "markdown",
   "metadata": {},
   "source": [
    "The parts of speech (verbs, nouns, adjectives) correlate strongly with each other while the punctuation marks do not correlate."
   ]
  },
  {
   "cell_type": "markdown",
   "metadata": {},
   "source": [
    "## Save the processed data\n",
    "\n",
    "Save data after calculation so that you do not have to recalculate the data when the kernel crashes, but can load it from the database."
   ]
  },
  {
   "cell_type": "code",
   "execution_count": 26,
   "metadata": {},
   "outputs": [],
   "source": [
    "engine = create_engine('sqlite:///FAKENews.db')\n",
    "messages.to_sql('tab_FAKENews', engine, index=False, if_exists='replace')"
   ]
  },
  {
   "cell_type": "markdown",
   "metadata": {},
   "source": [
    "## Load the data"
   ]
  },
  {
   "cell_type": "code",
   "execution_count": 27,
   "metadata": {},
   "outputs": [
    {
     "data": {
      "text/plain": [
       "(63121, 9)"
      ]
     },
     "execution_count": 27,
     "metadata": {},
     "output_type": "execute_result"
    }
   ],
   "source": [
    "# load data from database\n",
    "engine = create_engine('sqlite:///FAKENews.db')\n",
    "messages = pd.read_sql_table('tab_FAKENews', engine)\n",
    "messages.shape"
   ]
  },
  {
   "cell_type": "markdown",
   "metadata": {},
   "source": [
    "Due to constant crashes of the kernel in the Udacity workspace, I have reduced the data set. However, the ratio between real and fake articles has been maintained."
   ]
  },
  {
   "cell_type": "code",
   "execution_count": 28,
   "metadata": {},
   "outputs": [
    {
     "data": {
      "text/plain": [
       "(2000, 9)"
      ]
     },
     "execution_count": 28,
     "metadata": {},
     "output_type": "execute_result"
    }
   ],
   "source": [
    "# Maximum number of rows\n",
    "max_rows = 2000\n",
    "\n",
    "# Counting the instances per class in the 'LABEL' column\n",
    "counts = messages['label'].value_counts()\n",
    "samples_per_class = {label: min(counts[label], max_rows // len(counts)) for label in counts.index}\n",
    "\n",
    "# Manual stratified sampling\n",
    "sampled_dfs = []\n",
    "for label, num_samples in samples_per_class.items():\n",
    "    if num_samples > 0:\n",
    "        sampled_dfs.append(messages[messages['label'] == label].sample(n=num_samples, random_state=42))\n",
    "\n",
    "# Combining the samples\n",
    "messages = pd.concat(sampled_dfs).reset_index(drop=True)\n",
    "\n",
    "# Output of the stratified sample\n",
    "messages.shape"
   ]
  },
  {
   "cell_type": "markdown",
   "metadata": {},
   "source": [
    "Irrelevant data removes stop words (and other noise) that make the sentence grammatically complete, but do not have semantic significance in news classification operations. Removing stop words and keeping relevant tokens only significantly increases the model performance.\n"
   ]
  },
  {
   "cell_type": "code",
   "execution_count": 29,
   "metadata": {},
   "outputs": [],
   "source": [
    "# function for token cleaning\n",
    "def tokenize(text):\n",
    "    url_regex = 'http[s]?://(?:[a-zA-Z]|[0-9]|[$-_@.&+]|[!*\\(\\),]|(?:%[0-9a-fA-F][0-9a-fA-F]))+'\n",
    "    detected_urls = re.findall(url_regex, text)\n",
    "    for url in detected_urls:\n",
    "        text = text.replace(url, \"urlplaceholder\")\n",
    "    \n",
    "    tokens = word_tokenize(text)\n",
    "    tokens = [token.lower() for token in tokens if token.lower() not in set(stopwords.words('english')) and len(token)>2]\n",
    "    lemmatizer = WordNetLemmatizer()\n",
    "    \n",
    "    clean_tokens = []\n",
    "    for tok in tokens:\n",
    "        clean_tok = lemmatizer.lemmatize(tok).lower().strip()\n",
    "        clean_tokens.append(clean_tok)\n",
    "        \n",
    "    return clean_tokens"
   ]
  },
  {
   "cell_type": "code",
   "execution_count": 30,
   "metadata": {},
   "outputs": [],
   "source": [
    "# Initialize CountVectorizer\n",
    "vectorizer = CountVectorizer(tokenizer=tokenize)\n",
    "\n",
    "# Applying CountVectorizer to the 'TEXT' column\n",
    "X_count = vectorizer.fit_transform(messages['text'])\n",
    "\n",
    "# Initializing the TfidfTransformer\n",
    "tfidf_transformer = TfidfTransformer()\n",
    "\n",
    "# Applying the TfidfTransformer to the count matrix\n",
    "X_tfidf = tfidf_transformer.fit_transform(X_count)\n",
    "\n",
    "# Convert to a DataFrame for better readability\n",
    "tfidf_df = pd.DataFrame(X_tfidf.toarray(), columns=vectorizer.get_feature_names())\n",
    "\n",
    "# Scaling the additional features created // Scaling is necessary to be able to compare different algorithms\n",
    "scaler = MinMaxScaler()\n",
    "scaled_features = scaler.fit_transform(messages[['Count_Sent', 'Count_SPEZ']])\n",
    "\n",
    "# Converting the scaled features into a DataFrame\n",
    "scaled_df = pd.DataFrame(scaled_features, columns=['Count_Sent', 'Count_SPEZ'])\n",
    "\n",
    "# Appending the scaled features to the TF-IDF matrix\n",
    "X_new = pd.concat([tfidf_df, scaled_df], axis=1)"
   ]
  },
  {
   "cell_type": "code",
   "execution_count": 31,
   "metadata": {},
   "outputs": [
    {
     "name": "stdout",
     "output_type": "stream",
     "text": [
      "Shape of X: (2000, 44576) , Shape of y: (2000,)\n"
     ]
    }
   ],
   "source": [
    "# Define X (Input) and y (Output)\n",
    "X = X_new\n",
    "y = messages['label']\n",
    "\n",
    "print('Shape of X:', X.shape,', Shape of y:', y.shape)"
   ]
  },
  {
   "cell_type": "code",
   "execution_count": 32,
   "metadata": {},
   "outputs": [],
   "source": [
    "# Split into train and test set; chosen random_state ensures same results\n",
    "X_train, X_test, y_train, y_test = train_test_split(X, y, test_size=0.25, random_state=42)"
   ]
  },
  {
   "cell_type": "markdown",
   "metadata": {},
   "source": [
    "## Train the models\n",
    "\n"
   ]
  },
  {
   "cell_type": "code",
   "execution_count": 33,
   "metadata": {},
   "outputs": [
    {
     "data": {
      "text/plain": [
       "MultinomialNB(alpha=1.0, class_prior=None, fit_prior=True)"
      ]
     },
     "execution_count": 33,
     "metadata": {},
     "output_type": "execute_result"
    }
   ],
   "source": [
    "# Initializing Naive Bayes\n",
    "nb_model = MultinomialNB()\n",
    "\n",
    "# train model\n",
    "nb_model.fit(X_train, y_train)"
   ]
  },
  {
   "cell_type": "code",
   "execution_count": 34,
   "metadata": {},
   "outputs": [
    {
     "data": {
      "text/plain": [
       "AdaBoostClassifier(algorithm='SAMME.R', base_estimator=None,\n",
       "          learning_rate=1.0, n_estimators=50, random_state=42)"
      ]
     },
     "execution_count": 34,
     "metadata": {},
     "output_type": "execute_result"
    }
   ],
   "source": [
    "# Initializing AdaBoostClassifier\n",
    "adaboost_model = AdaBoostClassifier(random_state=42)\n",
    "\n",
    "# train model\n",
    "adaboost_model.fit(X_train, y_train)"
   ]
  },
  {
   "cell_type": "code",
   "execution_count": 35,
   "metadata": {},
   "outputs": [
    {
     "data": {
      "text/plain": [
       "LogisticRegression(C=1.0, class_weight=None, dual=False, fit_intercept=True,\n",
       "          intercept_scaling=1, max_iter=100, multi_class='ovr', n_jobs=1,\n",
       "          penalty='l2', random_state=42, solver='liblinear', tol=0.0001,\n",
       "          verbose=0, warm_start=False)"
      ]
     },
     "execution_count": 35,
     "metadata": {},
     "output_type": "execute_result"
    }
   ],
   "source": [
    "# Initializing Logistische Regression\n",
    "log_reg_model = LogisticRegression(random_state=42)\n",
    "\n",
    "# train model\n",
    "log_reg_model.fit(X_train, y_train)"
   ]
  },
  {
   "cell_type": "code",
   "execution_count": 36,
   "metadata": {},
   "outputs": [
    {
     "data": {
      "text/plain": [
       "SVC(C=3, cache_size=200, class_weight=None, coef0=0.0,\n",
       "  decision_function_shape='ovr', degree=3, gamma='auto', kernel='linear',\n",
       "  max_iter=-1, probability=True, random_state=None, shrinking=True,\n",
       "  tol=0.001, verbose=False)"
      ]
     },
     "execution_count": 36,
     "metadata": {},
     "output_type": "execute_result"
    }
   ],
   "source": [
    "# Initializing SVM\n",
    "svc_model = SVC(C=3, kernel='linear', probability=True)\n",
    "\n",
    "# train model\n",
    "svc_model.fit(X_train, y_train)"
   ]
  },
  {
   "cell_type": "markdown",
   "metadata": {},
   "source": [
    "## Testing the models\n",
    "Report the f1 score, precision and recall for each output category of the dataset."
   ]
  },
  {
   "cell_type": "code",
   "execution_count": 37,
   "metadata": {},
   "outputs": [],
   "source": [
    "# function to obtain the indices (articles) that were false positives and false negatives\n",
    "def falsepred(y_pred, y_test):\n",
    "    # Indizes der falsch positiven und falsch negativen Vorhersagen finden\n",
    "    false_positives = np.where((y_pred == 1) & (y_test == 0))[0]\n",
    "    false_negatives = np.where((y_pred == 0) & (y_test == 1))[0]\n",
    "    \n",
    "    return false_positives, false_negatives"
   ]
  },
  {
   "cell_type": "code",
   "execution_count": 38,
   "metadata": {},
   "outputs": [
    {
     "name": "stdout",
     "output_type": "stream",
     "text": [
      "             precision    recall  f1-score   support\n",
      "\n",
      "          0       0.82      0.87      0.85       257\n",
      "          1       0.85      0.80      0.83       243\n",
      "\n",
      "avg / total       0.84      0.84      0.84       500\n",
      "\n"
     ]
    }
   ],
   "source": [
    "# Prediction\n",
    "y_pred_nb = nb_model.predict(X_test)\n",
    "\n",
    "# classification report on test data\n",
    "print(classification_report(y_test.values, y_pred_nb))\n",
    "\n",
    "# Find Article index false positiv / false negativ\n",
    "false_positives_nb, false_negative_nb = falsepred(y_pred_nb, y_test.values)"
   ]
  },
  {
   "cell_type": "code",
   "execution_count": 39,
   "metadata": {},
   "outputs": [
    {
     "data": {
      "image/png": "[encoded data removed]",
      "text/plain": [
       "<matplotlib.figure.Figure at 0x793efcdb05c0>"
      ]
     },
     "metadata": {
      "needs_background": "light"
     },
     "output_type": "display_data"
    }
   ],
   "source": [
    "# Visualization of the results\n",
    "cm_NaiveBayes = confusion_matrix(y_test.values, y_pred_nb)\n",
    "\n",
    "plt.figure(figsize=(6, 4))\n",
    "sns.heatmap(cm_NaiveBayes, vmin=20, vmax=220, annot=True, fmt='d', cmap='Reds', xticklabels=['Real', 'Fake'], yticklabels=['Real', 'Fake'])\n",
    "plt.ylabel('What it is')\n",
    "plt.xlabel('Prediction')\n",
    "plt.title('Confusion Matrix - Naive Bayes')\n",
    "plt.show()"
   ]
  },
  {
   "cell_type": "code",
   "execution_count": 40,
   "metadata": {},
   "outputs": [
    {
     "name": "stdout",
     "output_type": "stream",
     "text": [
      "             precision    recall  f1-score   support\n",
      "\n",
      "          0       0.94      0.89      0.92       257\n",
      "          1       0.89      0.94      0.92       243\n",
      "\n",
      "avg / total       0.92      0.92      0.92       500\n",
      "\n"
     ]
    }
   ],
   "source": [
    "# Prediction\n",
    "y_pred_adaboost = adaboost_model.predict(X_test)\n",
    "\n",
    "# classification report on test data\n",
    "print(classification_report(y_test.values, y_pred_adaboost))\n",
    "\n",
    "# Find Article index false positiv / false negativ\n",
    "false_positives_ab, false_negative_ab = falsepred(y_pred_adaboost, y_test.values)"
   ]
  },
  {
   "cell_type": "code",
   "execution_count": 41,
   "metadata": {},
   "outputs": [
    {
     "data": {
      "image/png": "[encoded data removed]",
      "text/plain": [
       "<matplotlib.figure.Figure at 0x793efcde9550>"
      ]
     },
     "metadata": {
      "needs_background": "light"
     },
     "output_type": "display_data"
    }
   ],
   "source": [
    "# Visualization of the results\n",
    "cm_adaboost = confusion_matrix(y_test.values, y_pred_adaboost)\n",
    "\n",
    "plt.figure(figsize=(6, 4))\n",
    "sns.heatmap(cm_adaboost, vmin=20, vmax=220, annot=True, fmt='d', cmap='Reds', xticklabels=['Real', 'Fake'], yticklabels=['Real', 'Fake'])\n",
    "plt.ylabel('What it is')\n",
    "plt.xlabel('Prediction')\n",
    "plt.title('Confusion Matrix - AdaBoost')\n",
    "plt.show()"
   ]
  },
  {
   "cell_type": "code",
   "execution_count": 42,
   "metadata": {},
   "outputs": [
    {
     "name": "stdout",
     "output_type": "stream",
     "text": [
      "             precision    recall  f1-score   support\n",
      "\n",
      "          0       0.92      0.86      0.89       257\n",
      "          1       0.86      0.92      0.89       243\n",
      "\n",
      "avg / total       0.89      0.89      0.89       500\n",
      "\n"
     ]
    }
   ],
   "source": [
    "# Prediction\n",
    "y_pred_logreg = log_reg_model.predict(X_test)\n",
    "\n",
    "# classification report on test data\n",
    "print(classification_report(y_test.values, y_pred_logreg))\n",
    "\n",
    "# Find Article index false positiv / false negativ\n",
    "false_positives_lg, false_negative_lg = falsepred(y_pred_logreg, y_test.values)"
   ]
  },
  {
   "cell_type": "code",
   "execution_count": 43,
   "metadata": {},
   "outputs": [
    {
     "data": {
      "image/png": "[encoded data removed]",
      "text/plain": [
       "<matplotlib.figure.Figure at 0x793efcda26a0>"
      ]
     },
     "metadata": {
      "needs_background": "light"
     },
     "output_type": "display_data"
    }
   ],
   "source": [
    "# Visualization of the results\n",
    "cm_logreg = confusion_matrix(y_test.values, y_pred_logreg)\n",
    "\n",
    "plt.figure(figsize=(6, 4))\n",
    "sns.heatmap(cm_logreg, vmin=20, vmax=220, annot=True, fmt='d', cmap='Reds', xticklabels=['Real', 'Fake'], yticklabels=['Real', 'Fake'])\n",
    "plt.ylabel('What it is')\n",
    "plt.xlabel('Prediction')\n",
    "plt.title('Confusion Matrix - Logistic Regression')\n",
    "plt.show()"
   ]
  },
  {
   "cell_type": "code",
   "execution_count": 44,
   "metadata": {},
   "outputs": [
    {
     "name": "stdout",
     "output_type": "stream",
     "text": [
      "             precision    recall  f1-score   support\n",
      "\n",
      "          0       0.92      0.86      0.89       257\n",
      "          1       0.86      0.93      0.89       243\n",
      "\n",
      "avg / total       0.89      0.89      0.89       500\n",
      "\n"
     ]
    }
   ],
   "source": [
    "# Prediction\n",
    "y_pred_svc = svc_model.predict(X_test)\n",
    "\n",
    "# classification report on test data\n",
    "print(classification_report(y_test.values, y_pred_svc))\n",
    "\n",
    "# Find Article index false positiv / false negativ\n",
    "false_positives_sv, false_negative_sv = falsepred(y_pred_svc, y_test.values)"
   ]
  },
  {
   "cell_type": "code",
   "execution_count": 45,
   "metadata": {},
   "outputs": [
    {
     "data": {
      "image/png": "[encoded data removed]",
      "text/plain": [
       "<matplotlib.figure.Figure at 0x793efccc46a0>"
      ]
     },
     "metadata": {
      "needs_background": "light"
     },
     "output_type": "display_data"
    }
   ],
   "source": [
    "# Visualization of the results\n",
    "cm_svm = confusion_matrix(y_test.values, y_pred_svc)\n",
    "\n",
    "plt.figure(figsize=(6, 4))\n",
    "sns.heatmap(cm_svm, vmin=20, vmax=220, annot=True, fmt='d', cmap='Reds', xticklabels=['Real', 'Fake'], yticklabels=['Real', 'Fake'])\n",
    "plt.ylabel('What it is')\n",
    "plt.xlabel('Prediction')\n",
    "plt.title('Confusion Matrix - SVM')\n",
    "plt.show()"
   ]
  },
  {
   "cell_type": "markdown",
   "metadata": {},
   "source": [
    "## Tuning/Optimization of the model"
   ]
  },
  {
   "cell_type": "markdown",
   "metadata": {},
   "source": [
    "Compare the false negative classified articles of the three best algorithms to determine if voting could help. Is it every time the same article which is classified wrong?"
   ]
  },
  {
   "cell_type": "code",
   "execution_count": 50,
   "metadata": {},
   "outputs": [
    {
     "data": {
      "text/html": [
       "<div>\n",
       "<style scoped>\n",
       "    .dataframe tbody tr th:only-of-type {\n",
       "        vertical-align: middle;\n",
       "    }\n",
       "\n",
       "    .dataframe tbody tr th {\n",
       "        vertical-align: top;\n",
       "    }\n",
       "\n",
       "    .dataframe thead th {\n",
       "        text-align: right;\n",
       "    }\n",
       "</style>\n",
       "<table border=\"1\" class=\"dataframe\">\n",
       "  <thead>\n",
       "    <tr style=\"text-align: right;\">\n",
       "      <th></th>\n",
       "      <th>Article</th>\n",
       "      <th>LogReg</th>\n",
       "      <th>AdaBo</th>\n",
       "      <th>SVM</th>\n",
       "    </tr>\n",
       "  </thead>\n",
       "  <tbody>\n",
       "    <tr>\n",
       "      <th>0</th>\n",
       "      <td>0</td>\n",
       "      <td>1</td>\n",
       "      <td>1</td>\n",
       "      <td>1</td>\n",
       "    </tr>\n",
       "    <tr>\n",
       "      <th>2</th>\n",
       "      <td>2</td>\n",
       "      <td>1</td>\n",
       "      <td>0</td>\n",
       "      <td>1</td>\n",
       "    </tr>\n",
       "    <tr>\n",
       "      <th>4</th>\n",
       "      <td>5</td>\n",
       "      <td>1</td>\n",
       "      <td>0</td>\n",
       "      <td>0</td>\n",
       "    </tr>\n",
       "    <tr>\n",
       "      <th>10</th>\n",
       "      <td>41</td>\n",
       "      <td>1</td>\n",
       "      <td>0</td>\n",
       "      <td>1</td>\n",
       "    </tr>\n",
       "    <tr>\n",
       "      <th>13</th>\n",
       "      <td>52</td>\n",
       "      <td>1</td>\n",
       "      <td>0</td>\n",
       "      <td>1</td>\n",
       "    </tr>\n",
       "    <tr>\n",
       "      <th>16</th>\n",
       "      <td>55</td>\n",
       "      <td>1</td>\n",
       "      <td>1</td>\n",
       "      <td>1</td>\n",
       "    </tr>\n",
       "    <tr>\n",
       "      <th>19</th>\n",
       "      <td>73</td>\n",
       "      <td>1</td>\n",
       "      <td>0</td>\n",
       "      <td>1</td>\n",
       "    </tr>\n",
       "    <tr>\n",
       "      <th>22</th>\n",
       "      <td>84</td>\n",
       "      <td>1</td>\n",
       "      <td>0</td>\n",
       "      <td>1</td>\n",
       "    </tr>\n",
       "    <tr>\n",
       "      <th>24</th>\n",
       "      <td>94</td>\n",
       "      <td>0</td>\n",
       "      <td>0</td>\n",
       "      <td>1</td>\n",
       "    </tr>\n",
       "    <tr>\n",
       "      <th>1</th>\n",
       "      <td>128</td>\n",
       "      <td>1</td>\n",
       "      <td>0</td>\n",
       "      <td>0</td>\n",
       "    </tr>\n",
       "    <tr>\n",
       "      <th>3</th>\n",
       "      <td>130</td>\n",
       "      <td>0</td>\n",
       "      <td>1</td>\n",
       "      <td>0</td>\n",
       "    </tr>\n",
       "    <tr>\n",
       "      <th>5</th>\n",
       "      <td>139</td>\n",
       "      <td>0</td>\n",
       "      <td>1</td>\n",
       "      <td>0</td>\n",
       "    </tr>\n",
       "    <tr>\n",
       "      <th>6</th>\n",
       "      <td>150</td>\n",
       "      <td>0</td>\n",
       "      <td>1</td>\n",
       "      <td>0</td>\n",
       "    </tr>\n",
       "    <tr>\n",
       "      <th>9</th>\n",
       "      <td>164</td>\n",
       "      <td>0</td>\n",
       "      <td>1</td>\n",
       "      <td>0</td>\n",
       "    </tr>\n",
       "    <tr>\n",
       "      <th>14</th>\n",
       "      <td>180</td>\n",
       "      <td>1</td>\n",
       "      <td>0</td>\n",
       "      <td>1</td>\n",
       "    </tr>\n",
       "    <tr>\n",
       "      <th>18</th>\n",
       "      <td>199</td>\n",
       "      <td>1</td>\n",
       "      <td>1</td>\n",
       "      <td>1</td>\n",
       "    </tr>\n",
       "    <tr>\n",
       "      <th>20</th>\n",
       "      <td>206</td>\n",
       "      <td>1</td>\n",
       "      <td>0</td>\n",
       "      <td>1</td>\n",
       "    </tr>\n",
       "    <tr>\n",
       "      <th>21</th>\n",
       "      <td>208</td>\n",
       "      <td>1</td>\n",
       "      <td>0</td>\n",
       "      <td>1</td>\n",
       "    </tr>\n",
       "    <tr>\n",
       "      <th>25</th>\n",
       "      <td>230</td>\n",
       "      <td>0</td>\n",
       "      <td>1</td>\n",
       "      <td>0</td>\n",
       "    </tr>\n",
       "    <tr>\n",
       "      <th>27</th>\n",
       "      <td>238</td>\n",
       "      <td>0</td>\n",
       "      <td>1</td>\n",
       "      <td>0</td>\n",
       "    </tr>\n",
       "    <tr>\n",
       "      <th>8</th>\n",
       "      <td>292</td>\n",
       "      <td>1</td>\n",
       "      <td>0</td>\n",
       "      <td>0</td>\n",
       "    </tr>\n",
       "    <tr>\n",
       "      <th>12</th>\n",
       "      <td>302</td>\n",
       "      <td>1</td>\n",
       "      <td>1</td>\n",
       "      <td>1</td>\n",
       "    </tr>\n",
       "    <tr>\n",
       "      <th>15</th>\n",
       "      <td>311</td>\n",
       "      <td>1</td>\n",
       "      <td>0</td>\n",
       "      <td>1</td>\n",
       "    </tr>\n",
       "    <tr>\n",
       "      <th>17</th>\n",
       "      <td>321</td>\n",
       "      <td>0</td>\n",
       "      <td>1</td>\n",
       "      <td>1</td>\n",
       "    </tr>\n",
       "    <tr>\n",
       "      <th>23</th>\n",
       "      <td>345</td>\n",
       "      <td>1</td>\n",
       "      <td>0</td>\n",
       "      <td>1</td>\n",
       "    </tr>\n",
       "    <tr>\n",
       "      <th>26</th>\n",
       "      <td>359</td>\n",
       "      <td>1</td>\n",
       "      <td>0</td>\n",
       "      <td>1</td>\n",
       "    </tr>\n",
       "    <tr>\n",
       "      <th>28</th>\n",
       "      <td>370</td>\n",
       "      <td>0</td>\n",
       "      <td>1</td>\n",
       "      <td>0</td>\n",
       "    </tr>\n",
       "    <tr>\n",
       "      <th>29</th>\n",
       "      <td>383</td>\n",
       "      <td>1</td>\n",
       "      <td>0</td>\n",
       "      <td>0</td>\n",
       "    </tr>\n",
       "    <tr>\n",
       "      <th>7</th>\n",
       "      <td>415</td>\n",
       "      <td>0</td>\n",
       "      <td>1</td>\n",
       "      <td>0</td>\n",
       "    </tr>\n",
       "    <tr>\n",
       "      <th>11</th>\n",
       "      <td>426</td>\n",
       "      <td>1</td>\n",
       "      <td>1</td>\n",
       "      <td>1</td>\n",
       "    </tr>\n",
       "  </tbody>\n",
       "</table>\n",
       "</div>"
      ],
      "text/plain": [
       "    Article  LogReg  AdaBo  SVM\n",
       "0         0       1      1    1\n",
       "2         2       1      0    1\n",
       "4         5       1      0    0\n",
       "10       41       1      0    1\n",
       "13       52       1      0    1\n",
       "16       55       1      1    1\n",
       "19       73       1      0    1\n",
       "22       84       1      0    1\n",
       "24       94       0      0    1\n",
       "1       128       1      0    0\n",
       "3       130       0      1    0\n",
       "5       139       0      1    0\n",
       "6       150       0      1    0\n",
       "9       164       0      1    0\n",
       "14      180       1      0    1\n",
       "18      199       1      1    1\n",
       "20      206       1      0    1\n",
       "21      208       1      0    1\n",
       "25      230       0      1    0\n",
       "27      238       0      1    0\n",
       "8       292       1      0    0\n",
       "12      302       1      1    1\n",
       "15      311       1      0    1\n",
       "17      321       0      1    1\n",
       "23      345       1      0    1\n",
       "26      359       1      0    1\n",
       "28      370       0      1    0\n",
       "29      383       1      0    0\n",
       "7       415       0      1    0\n",
       "11      426       1      1    1"
      ]
     },
     "execution_count": 50,
     "metadata": {},
     "output_type": "execute_result"
    }
   ],
   "source": [
    "# Combine all lists into a single list\n",
    "all_indices = set(false_negative_lg.tolist()) | set(false_negative_ab.tolist()) | set(false_negative_sv.tolist())\n",
    "\n",
    "# Create matrix\n",
    "matrix = []\n",
    "\n",
    "for index in all_indices:\n",
    "    row = [\n",
    "        1 if index in false_negative_lg.tolist() else 0,\n",
    "        1 if index in false_negative_ab.tolist() else 0,\n",
    "        1 if index in false_negative_sv.tolist() else 0\n",
    "    ]\n",
    "    matrix.append([index] + row)\n",
    "\n",
    "# Transform to DataFrame\n",
    "df_matrix = pd.DataFrame(matrix, columns=['Article', 'LogReg', 'AdaBo', 'SVM'])\n",
    "\n",
    "# Sort by Index\n",
    "df_matrix = df_matrix.sort_values(by='Article')\n",
    "\n",
    "# print Matrix for visuell evaluation\n",
    "df_matrix"
   ]
  },
  {
   "cell_type": "markdown",
   "metadata": {},
   "source": [
    "It seems that the different algorithms classify the articles differently. Therefore a VotingClassifier may improve accuracy! Let's test it!"
   ]
  },
  {
   "cell_type": "code",
   "execution_count": 48,
   "metadata": {},
   "outputs": [
    {
     "name": "stdout",
     "output_type": "stream",
     "text": [
      "             precision    recall  f1-score   support\n",
      "\n",
      "          0       0.93      0.87      0.90       257\n",
      "          1       0.87      0.93      0.90       243\n",
      "\n",
      "avg / total       0.90      0.90      0.90       500\n",
      "\n"
     ]
    }
   ],
   "source": [
    "# Combine the models in a voting classifier\n",
    "voting_model = VotingClassifier(estimators=[\n",
    "    ('ab', adaboost_model),\n",
    "    ('lg', log_reg_model),\n",
    "    ('sv', svc_model)], \n",
    "    voting='hard',                   \n",
    "    weights=[1,1,1])  \n",
    "\n",
    "# Train the combined modell\n",
    "voting_model.fit(X_train, y_train)\n",
    "\n",
    "# Prediction\n",
    "y_pred_VOTE = voting_model.predict(X_test)\n",
    "\n",
    "# classification report on test data\n",
    "print(classification_report(y_test.values, y_pred_VOTE))"
   ]
  },
  {
   "cell_type": "code",
   "execution_count": 49,
   "metadata": {
    "scrolled": true
   },
   "outputs": [
    {
     "data": {
      "image/png": "[encoded data removed]",
      "text/plain": [
       "<matplotlib.figure.Figure at 0x793efcdad668>"
      ]
     },
     "metadata": {
      "needs_background": "light"
     },
     "output_type": "display_data"
    }
   ],
   "source": [
    "# Visualization of the results\n",
    "cm_vote = confusion_matrix(y_test.values, y_pred_VOTE)\n",
    "\n",
    "plt.figure(figsize=(6, 4))\n",
    "sns.heatmap(cm_vote, vmin=20, vmax=220, annot=True, fmt='d', cmap='Reds', xticklabels=['Real', 'Fake'], yticklabels=['Real', 'Fake'])\n",
    "plt.ylabel('What it is')\n",
    "plt.xlabel('Prediction')\n",
    "plt.title('Confusion Matrix - Voting')\n",
    "plt.show()"
   ]
  },
  {
   "cell_type": "markdown",
   "metadata": {},
   "source": [
    "VotingClassifier did not improve the prediction accuracy. The AdaBoostClassifier initially shows the best performance with default values. For further improvement, we are still trying to optimize the model parameters."
   ]
  },
  {
   "cell_type": "code",
   "execution_count": 51,
   "metadata": {},
   "outputs": [
    {
     "data": {
      "text/plain": [
       "{'algorithm': 'SAMME.R',\n",
       " 'base_estimator': None,\n",
       " 'learning_rate': 1.0,\n",
       " 'n_estimators': 50,\n",
       " 'random_state': 42}"
      ]
     },
     "execution_count": 51,
     "metadata": {},
     "output_type": "execute_result"
    }
   ],
   "source": [
    "# get list of model parameters\n",
    "adaboost_model.get_params()"
   ]
  },
  {
   "cell_type": "code",
   "execution_count": 52,
   "metadata": {},
   "outputs": [
    {
     "name": "stdout",
     "output_type": "stream",
     "text": [
      "Fitting 2 folds for each of 15 candidates, totalling 30 fits\n",
      "[CV] learning_rate=0.1, n_estimators=10 ..............................\n",
      "[CV]  learning_rate=0.1, n_estimators=10, score=0.8175765645805593, total=   2.3s\n",
      "[CV] learning_rate=0.1, n_estimators=10 ..............................\n"
     ]
    },
    {
     "name": "stderr",
     "output_type": "stream",
     "text": [
      "[Parallel(n_jobs=1)]: Done   1 out of   1 | elapsed:    2.6s remaining:    0.0s\n"
     ]
    },
    {
     "name": "stdout",
     "output_type": "stream",
     "text": [
      "[CV]  learning_rate=0.1, n_estimators=10, score=0.8411214953271028, total=   2.1s\n",
      "[CV] learning_rate=0.1, n_estimators=50 ..............................\n"
     ]
    },
    {
     "name": "stderr",
     "output_type": "stream",
     "text": [
      "[Parallel(n_jobs=1)]: Done   2 out of   2 | elapsed:    5.0s remaining:    0.0s\n"
     ]
    },
    {
     "name": "stdout",
     "output_type": "stream",
     "text": [
      "[CV]  learning_rate=0.1, n_estimators=50, score=0.9041278295605859, total=   7.7s\n",
      "[CV] learning_rate=0.1, n_estimators=50 ..............................\n"
     ]
    },
    {
     "name": "stderr",
     "output_type": "stream",
     "text": [
      "[Parallel(n_jobs=1)]: Done   3 out of   3 | elapsed:   13.4s remaining:    0.0s\n"
     ]
    },
    {
     "name": "stdout",
     "output_type": "stream",
     "text": [
      "[CV]  learning_rate=0.1, n_estimators=50, score=0.8878504672897196, total=   7.8s\n",
      "[CV] learning_rate=0.1, n_estimators=100 .............................\n"
     ]
    },
    {
     "name": "stderr",
     "output_type": "stream",
     "text": [
      "[Parallel(n_jobs=1)]: Done   4 out of   4 | elapsed:   21.9s remaining:    0.0s\n"
     ]
    },
    {
     "name": "stdout",
     "output_type": "stream",
     "text": [
      "[CV]  learning_rate=0.1, n_estimators=100, score=0.9121171770972037, total=  16.0s\n",
      "[CV] learning_rate=0.1, n_estimators=100 .............................\n"
     ]
    },
    {
     "name": "stderr",
     "output_type": "stream",
     "text": [
      "[Parallel(n_jobs=1)]: Done   5 out of   5 | elapsed:   39.2s remaining:    0.0s\n"
     ]
    },
    {
     "name": "stdout",
     "output_type": "stream",
     "text": [
      "[CV]  learning_rate=0.1, n_estimators=100, score=0.8918558077436582, total=  15.4s\n",
      "[CV] learning_rate=0.1, n_estimators=150 .............................\n"
     ]
    },
    {
     "name": "stderr",
     "output_type": "stream",
     "text": [
      "[Parallel(n_jobs=1)]: Done   6 out of   6 | elapsed:   55.9s remaining:    0.0s\n"
     ]
    },
    {
     "name": "stdout",
     "output_type": "stream",
     "text": [
      "[CV]  learning_rate=0.1, n_estimators=150, score=0.914780292942743, total=  22.5s\n",
      "[CV] learning_rate=0.1, n_estimators=150 .............................\n"
     ]
    },
    {
     "name": "stderr",
     "output_type": "stream",
     "text": [
      "[Parallel(n_jobs=1)]: Done   7 out of   7 | elapsed:  1.3min remaining:    0.0s\n"
     ]
    },
    {
     "name": "stdout",
     "output_type": "stream",
     "text": [
      "[CV]  learning_rate=0.1, n_estimators=150, score=0.8878504672897196, total=  22.2s\n",
      "[CV] learning_rate=0.1, n_estimators=200 .............................\n"
     ]
    },
    {
     "name": "stderr",
     "output_type": "stream",
     "text": [
      "[Parallel(n_jobs=1)]: Done   8 out of   8 | elapsed:  1.7min remaining:    0.0s\n"
     ]
    },
    {
     "name": "stdout",
     "output_type": "stream",
     "text": [
      "[CV]  learning_rate=0.1, n_estimators=200, score=0.9161118508655126, total=  30.8s\n",
      "[CV] learning_rate=0.1, n_estimators=200 .............................\n"
     ]
    },
    {
     "name": "stderr",
     "output_type": "stream",
     "text": [
      "[Parallel(n_jobs=1)]: Done   9 out of   9 | elapsed:  2.3min remaining:    0.0s\n"
     ]
    },
    {
     "name": "stdout",
     "output_type": "stream",
     "text": [
      "[CV]  learning_rate=0.1, n_estimators=200, score=0.8918558077436582, total=  29.6s\n",
      "[CV] learning_rate=0.5, n_estimators=10 ..............................\n",
      "[CV]  learning_rate=0.5, n_estimators=10, score=0.8948069241011984, total=   2.3s\n",
      "[CV] learning_rate=0.5, n_estimators=10 ..............................\n",
      "[CV]  learning_rate=0.5, n_estimators=10, score=0.8838451268357811, total=   2.3s\n",
      "[CV] learning_rate=0.5, n_estimators=50 ..............................\n",
      "[CV]  learning_rate=0.5, n_estimators=50, score=0.9054593874833555, total=   8.2s\n",
      "[CV] learning_rate=0.5, n_estimators=50 ..............................\n",
      "[CV]  learning_rate=0.5, n_estimators=50, score=0.8918558077436582, total=   7.8s\n",
      "[CV] learning_rate=0.5, n_estimators=100 .............................\n",
      "[CV]  learning_rate=0.5, n_estimators=100, score=0.9094540612516645, total=  14.8s\n",
      "[CV] learning_rate=0.5, n_estimators=100 .............................\n",
      "[CV]  learning_rate=0.5, n_estimators=100, score=0.9038718291054739, total=  14.5s\n",
      "[CV] learning_rate=0.5, n_estimators=150 .............................\n",
      "[CV]  learning_rate=0.5, n_estimators=150, score=0.9027962716378163, total=  22.0s\n",
      "[CV] learning_rate=0.5, n_estimators=150 .............................\n",
      "[CV]  learning_rate=0.5, n_estimators=150, score=0.8998664886515354, total=  21.7s\n",
      "[CV] learning_rate=0.5, n_estimators=200 .............................\n",
      "[CV]  learning_rate=0.5, n_estimators=200, score=0.8988015978695073, total=  30.0s\n",
      "[CV] learning_rate=0.5, n_estimators=200 .............................\n",
      "[CV]  learning_rate=0.5, n_estimators=200, score=0.8931909212283045, total=  28.8s\n",
      "[CV] learning_rate=1, n_estimators=10 ................................\n",
      "[CV]  learning_rate=1, n_estimators=10, score=0.8961384820239681, total=   2.1s\n",
      "[CV] learning_rate=1, n_estimators=10 ................................\n",
      "[CV]  learning_rate=1, n_estimators=10, score=0.8691588785046729, total=   2.1s\n",
      "[CV] learning_rate=1, n_estimators=50 ................................\n",
      "[CV]  learning_rate=1, n_estimators=50, score=0.8948069241011984, total=   7.9s\n",
      "[CV] learning_rate=1, n_estimators=50 ................................\n",
      "[CV]  learning_rate=1, n_estimators=50, score=0.8851802403204272, total=   7.7s\n",
      "[CV] learning_rate=1, n_estimators=100 ...............................\n",
      "[CV]  learning_rate=1, n_estimators=100, score=0.9001331557922769, total=  15.1s\n",
      "[CV] learning_rate=1, n_estimators=100 ...............................\n",
      "[CV]  learning_rate=1, n_estimators=100, score=0.8931909212283045, total=  15.2s\n",
      "[CV] learning_rate=1, n_estimators=150 ...............................\n",
      "[CV]  learning_rate=1, n_estimators=150, score=0.8894806924101198, total=  22.7s\n",
      "[CV] learning_rate=1, n_estimators=150 ...............................\n",
      "[CV]  learning_rate=1, n_estimators=150, score=0.8878504672897196, total=  22.7s\n",
      "[CV] learning_rate=1, n_estimators=200 ...............................\n",
      "[CV]  learning_rate=1, n_estimators=200, score=0.9027962716378163, total=  30.7s\n",
      "[CV] learning_rate=1, n_estimators=200 ...............................\n",
      "[CV]  learning_rate=1, n_estimators=200, score=0.8945260347129506, total=  29.3s\n"
     ]
    },
    {
     "name": "stderr",
     "output_type": "stream",
     "text": [
      "[Parallel(n_jobs=1)]: Done  30 out of  30 | elapsed:  8.4min finished\n"
     ]
    },
    {
     "name": "stdout",
     "output_type": "stream",
     "text": [
      "Best parameters: {'learning_rate': 0.5, 'n_estimators': 100}\n"
     ]
    }
   ],
   "source": [
    "# set parameters for GridSearch\n",
    "parameters = {\n",
    "    'learning_rate': [0.1, 0.5, 1],\n",
    "    'n_estimators': [10, 50, 100, 150, 200]\n",
    "}\n",
    "\n",
    "cv = GridSearchCV(adaboost_model, param_grid=parameters, verbose=10, cv=2)\n",
    "cv.fit(X_train, y_train)\n",
    "print(\"Best parameters:\", cv.best_params_)"
   ]
  },
  {
   "cell_type": "code",
   "execution_count": 53,
   "metadata": {},
   "outputs": [
    {
     "name": "stdout",
     "output_type": "stream",
     "text": [
      "             precision    recall  f1-score   support\n",
      "\n",
      "          0       0.95      0.88      0.91       257\n",
      "          1       0.88      0.95      0.91       243\n",
      "\n",
      "avg / total       0.91      0.91      0.91       500\n",
      "\n"
     ]
    }
   ],
   "source": [
    "# Prediction of the optimized model based on the test data\n",
    "y_pred_cv = cv.predict(X_test)\n",
    "# classification report on test data\n",
    "print(classification_report(y_test.values, y_pred_cv))"
   ]
  },
  {
   "cell_type": "code",
   "execution_count": 54,
   "metadata": {},
   "outputs": [
    {
     "data": {
      "image/png": "[encoded data removed]",
      "text/plain": [
       "<matplotlib.figure.Figure at 0x793efcde0978>"
      ]
     },
     "metadata": {
      "needs_background": "light"
     },
     "output_type": "display_data"
    }
   ],
   "source": [
    "# Visualization of the results\n",
    "cm = confusion_matrix(y_test.values, y_pred_cv)\n",
    "\n",
    "plt.figure(figsize=(6, 4))\n",
    "sns.heatmap(cm, annot=True, fmt='d', cmap='Reds', xticklabels=['Real', 'Fake'], yticklabels=['Real', 'Fake'])\n",
    "plt.ylabel('What it is')\n",
    "plt.xlabel('Prediction')\n",
    "plt.title('Confusion Matrix - AdaBoost (GridSearch)')\n",
    "plt.show()"
   ]
  },
  {
   "cell_type": "markdown",
   "metadata": {},
   "source": [
    "## Feature Importance\n",
    "\n",
    "Has feature engineering helped - are these features significant for the model?"
   ]
  },
  {
   "cell_type": "code",
   "execution_count": 58,
   "metadata": {},
   "outputs": [
    {
     "data": {
      "image/png": "[encoded data removed]",
      "text/plain": [
       "<matplotlib.figure.Figure at 0x793efcb82940>"
      ]
     },
     "metadata": {
      "needs_background": "light"
     },
     "output_type": "display_data"
    }
   ],
   "source": [
    "# Feature Importance\n",
    "importances = adaboost_model.feature_importances_\n",
    "feature_names = X_new.columns.tolist()\n",
    "\n",
    "# Convert to DataFrame and sort\n",
    "importance_df = pd.DataFrame({'Feature': feature_names, 'Importance': importances})\n",
    "importance_df = importance_df.sort_values(by='Importance', ascending=False)\n",
    "\n",
    "# Select only the first 15 features\n",
    "top_n = 15\n",
    "top_importance_df = importance_df.head(top_n)\n",
    "\n",
    "# Create plot\n",
    "plt.figure(figsize=(10, 6))\n",
    "sns.barplot(x='Importance', y='Feature', data=top_importance_df, color='darkred')\n",
    "plt.xlabel('Importance')\n",
    "plt.title('Feature Importance (Descending Order)')\n",
    "plt.grid(axis='x', linestyle='--')\n",
    "plt.show()"
   ]
  },
  {
   "cell_type": "markdown",
   "metadata": {},
   "source": [
    "Yes, two of the additional features created are included in the top 15 features. "
   ]
  },
  {
   "cell_type": "markdown",
   "metadata": {},
   "source": [
    "## Show result"
   ]
  },
  {
   "cell_type": "code",
   "execution_count": 61,
   "metadata": {},
   "outputs": [
    {
     "name": "stdout",
     "output_type": "stream",
     "text": [
      "\u001b[1mU.S. senators seek answers on U.S. presence in Niger after ambush\n",
      "\n",
      "\u001b[0mWASHINGTON (Reuters) - U.S. senators said on Sunday the White House has not been forthcoming with details about the military s presence in Niger after the deaths of four soldiers there earlier this month and they want more answers on U.S. operations in the west African country. Republican Senator Lindsey Graham and Democratic Senate leader Chuck Schumer said in separate interviews that they support Republican Senator John McCain s effort to get answers from the Pentagon on the ambush and more broadly on the U.S. fight against ISIS in Niger. Graham and Schumer said they had been unaware of the large U.S. presence in the country and said Congress needs more information on what could become a long and open-ended involvement.  I didn t know there was 1,000 troops in Niger,  Graham said on NBC s Meet the Press.  This is an endless war without boundaries and no limitation on time and geography,  he added.  You ve got to tell us more and he [McCain] is right to say that.  Defense Secretary Jim Mattis told Graham and McCain, who serves as chairman of the Senate Armed Services Committee, on Friday that the military is shifting its counter-terrorism strategy to focus more on Africa and expanding the ability to use force against suspected terrorists. The attack earlier this month, which U.S. officials suspect was carried out by a local Islamic State affiliate, has thrown a spotlight on the U.S. counter-terrorism mission in Niger, which has about 800 U.S. troops. U.S. President Donald Trump drew attention to the ambush after sparring last week with Democratic Congresswoman Frederica Wilson, who criticized the president for what she said were insensitive remarks to the widow of one of the fallen soldiers. Democrat Schumer said on the same program on Sunday that he, like Graham, had also been unaware of the large presence of U.S. troops in Niger and is also awaiting more answers from the military this week. He said Congress may need to re-examine the current authorization for what he said could be a long, open-ended involvement in the country and region.  We need to look at this carefully. This is a brave new world. There are no set battle plans,  he said, adding that Congress currently authorizes action as part of the authorization of military use that has been in place for 16 years since the September 11 terror attacks on the United States.  I would be for re-examining this. There is no easy answer but we need to look at it. The answer we have now is not adequate,  he said. \n",
      "\n",
      "\n",
      "Prediction: Real\n",
      "What it is: Real\n",
      "============================================================================================================================\n",
      "\n",
      "\u001b[1m Neil DeGrasse Tyson SCHOOLS Rapper B.O.B Over Flat Earth Conspiracy (TWEETS)\n",
      "\n",
      "\u001b[0mIf you were not aware there is a seriously old and debunked new theory going around the interwebz that the Earth is really flat after all. Yes, seriously. Recently, rapper B.o.B posted a bunch of  evidence  to support his belief that we ve all been lied to about the shape of our planet. Unfortunately for him, it got really embarrassing when astrophysicist Neil deGrasse Tyson got involved and schooled him.A couple of weeks ago, singer Tila Tequila tweeted about the #FlatEarth movement, claiming that the Earth isn t really round because buildings in New York City are all straight.Why are all the buildings in NYC standing straight up? If earth was round then some of the buildings would have a slight tilt. #FlatEarth  Tila Tequila (@AngelTilaLove) January 7, 2016Apparently she isn t the only nutjob, because rapper B.o.B started tweeting  the same mind-boggling nonsense:A lot of people are turned off by the phrase \"flat earth\"   but there's no way u can see all the evidence and not know  grow up  B.o.B (@bobatl) January 25, 2016No matter how high in elevation you are  the horizon is always eye level   sorry cadets  I didn't wanna believe it either.  B.o.B (@bobatl) January 25, 2016y'all be like  \"you're not high enough to see the curve keep going\" pic.twitter.com/dzgYpIIao3  B.o.B (@bobatl) January 25, 2016how do you explain the horizon always being at eye level ? https://t.co/Kzuc4r77CK  B.o.B (@bobatl) January 25, 2016There is tweet after tweet with this same crazy speak. About twenty tweets into his flat Earthfest, Neil deGrasse Tyson decided that he could no longer handle the dumbf*ckery and slapped down the rapper s loony conspiracy theory:@bobatl Earth's curve indeed blocks 150 (not 170) ft of Manhattan. But most buildings in midtown are waaay taller than that.  Neil deGrasse Tyson (@neiltyson) January 25, 2016@bobatl Polaris is gone by 1.5 deg S. Latitude. You ve never been south of Earth s Equator, or if so, you've never looked up.  Neil deGrasse Tyson (@neiltyson) January 25, 2016@bobatl Flat Earth is a problem only when people in charge think that way. No law stops you from regressively basking in it.  Neil deGrasse Tyson (@neiltyson) January 25, 2016@bobatl Duude   to be clear: Being five centuries regressed in your reasoning doesn t mean we all can t still like your music  Neil deGrasse Tyson (@neiltyson) January 25, 2016If you thought B.o.B would listen to one of most prominent astrophysicists in the world, you d be wrong. Instead of admitting that he had no idea what he was talking about, the rapper posted this:@neiltyson why can't the curvature of the earth be measured anywhere in nature? why does only NASA have photos of the curve ? r u a mason?  B.o.B (@bobatl) January 25, 2016He continued on like this for the rest of the day, convinced that he knows more than Tyson.Neil deGrasse must have realized that the rapper was completely bat sh*t because he just stopped responding.We don t blame him.Although many American children are taught that Christopher Columbus discovered the Earth was not flat, the belief that it is round dates back all the way to 6 Century B.C., but was proven by Aristotle. It was then reaffirmed throughout history.There are a lot of mindnumbing conspiracy theories out there, but this one is exceptionally stupid. Why B.o.B thinks he knows more than the scientific community is anyone s guess, but he really should keep his crazy off of social media sites before he embarrasses himself further.Featured image via Twitter\n",
      "\n",
      "\n",
      "Prediction: Fake\n",
      "What it is: Fake\n",
      "============================================================================================================================\n",
      "\n",
      "\u001b[1m White Supremacist Kills Black Man, Planned On Murdering More (VIDEO)\n",
      "\n",
      "\u001b[0mJames Harris Jackson, 28, eventually surrendered to police in New York City to admit to fatally stabbing a 66-year-old black man in the chest with a 26-inch sword that has an 18-inch blade. The sword exited the victim s back after being plunged into his chest. Jackson, an army veteran from Baltimore, held a long-time hatred of black people and had traveled to Manhattan with the goal of killing black men.This is an attack you won t see amateur president Donald Trump tweeting about.Timothy Caughman, 66, the white supremacist s victim, stumbled into a police station bleeding from stab wounds to his chest and back, Assistant Chief William Aubry, the commander of Manhattan South detectives, told reporters at Police Headquarters, according to the New York Times.After taking down his first victim, Jackson set his sights on another black person just blocks away but something reportedly  spooked him. He appeared to be very close, following a black guy,  a source said.  He slows down and at one point he turned around and came back. It s clear he was really focused on the guy for some time. Then, he falls out of camera view and doesn t attack the guy. He made statements that he was following the guy but something spooked him. Jackson was arrested on a charge of second-degree murder, but the chief said they wanted to upgrade the charge by classifying it a hate crime.Watch:.@NYPDMTS walk James Harris Jackson, an army veteran & member of a hate group in Maryland, accused of killing a #NYC black man @NYDNVideo pic.twitter.com/DWwGxM0GgG  Edgar Sandoval (@edjsandoval) March 22, 2017Surveillance video of Jackson near the scene:Jackson admitted to police that he was a member of a white supremacist group and said that he detailed his racist views on his laptop computer, according to the Daily News.Jackson told the authorities that he initially wanted to stab a black man, then grab a police officer s gun and  shoot some people,  a police source said.Aubry said,  He wanted to make a statement. Jackson told police that he has been  harboring (racist) feelings for quite some time,  and it s believed he had these feelings for over 10 years, police said. He knew what he was doing when he was coming up here,  Aubry said at a press conference.  It is believed he was specifically intending to target male blacks. It s been well over 10 years that he has been harboring his hate towards blacks. Jackson reportedly said he doesn t like interracial relationships. More than an unspeakable human tragedy, this is an assault on what makes this the greatest city in the world: our inclusiveness and our diversity,  Mayor de Blasio said Wednesday.  Now it s our collective responsibility to speak clearly and forcefully in the face of intolerance and violence   here or across the country. We are a safe city because we are inclusive. We are a nation of unrivaled strength because we are diverse. No act of violence can undermine who we are. The last words Caughman said to his attacker were,  What are you doing? Good question.Image via screen capture.\n",
      "\n",
      "\n",
      "Prediction: Fake\n",
      "What it is: Fake\n",
      "============================================================================================================================\n",
      "\n"
     ]
    }
   ],
   "source": [
    "# Choose three articels (random) make a prediction and check for correctness\n",
    "for i in range(3):\n",
    "    id = np.random.choice(range(len(messages)))\n",
    "\n",
    "    print('\\033[1m'+messages['title'][id]+'\\n')\n",
    "    print('\\033[0m'+messages['text'][id])\n",
    "\n",
    "    pred = adaboost_model.predict(X.loc[[id]])\n",
    "    result_pred = 'Fake' if pred == 1 else 'Real'\n",
    "\n",
    "    label = messages['label'][id]\n",
    "    result_label = 'Fake' if pred == 1 else 'Real'  \n",
    "          \n",
    "    print('\\n')\n",
    "    print('Prediction: {}'.format(result_pred))\n",
    "    print('What it is: {}'.format(result_label))\n",
    "    print('============================================================================================================================\\n')"
   ]
  },
  {
   "cell_type": "code",
   "execution_count": null,
   "metadata": {},
   "outputs": [],
   "source": []
  }
 ],
 "metadata": {
  "kernelspec": {
   "display_name": "Python 3",
   "language": "python",
   "name": "python3"
  },
  "language_info": {
   "codemirror_mode": {
    "name": "ipython",
    "version": 3
   },
   "file_extension": ".py",
   "mimetype": "text/x-python",
   "name": "python",
   "nbconvert_exporter": "python",
   "pygments_lexer": "ipython3",
   "version": "3.6.3"
  }
 },
 "nbformat": 4,
 "nbformat_minor": 2
}
